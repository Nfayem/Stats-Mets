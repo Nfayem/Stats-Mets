{
 "cells": [
  {
   "cell_type": "code",
   "execution_count": 63,
   "id": "f6e82a95",
   "metadata": {},
   "outputs": [
    {
     "name": "stdout",
     "output_type": "stream",
     "text": [
      "       ID SEX  AGE    WT  HT CM   HT   BMI    WC  WC Perctile   HIP  ...  \\\n",
      "92   L007   F    7  55.0  133.0  1.3   NaN  67.5          NaN  79.0  ...   \n",
      "94   L009   M    7  22.0  120.0  1.2  15.3  68.0          NaN  61.5  ...   \n",
      "116  L032   F    5  18.0  112.0  1.1  14.5  60.0          NaN  65.0  ...   \n",
      "123  L039   F    5  20.0  118.0  1.2  14.4  59.0          NaN  62.0  ...   \n",
      "129  L045   F    6  22.0  122.0  1.2  14.8  59.0          NaN  64.0  ...   \n",
      "183  P035   M    6  31.0  134.0  1.3  17.3  60.0          NaN  72.5  ...   \n",
      "232  T001   M    7  22.0  128.0  1.3  13.3  59.0          NaN  67.0  ...   \n",
      "\n",
      "     DBP Percentile    FBS  HOMA   TRIG  TYG   HDL   LDL   TCHO  HbA1C  HbA1C%  \n",
      "92              NaN   93.0   3.3  178.1  4.9  42.1  14.0  137.0    4.0     3.0  \n",
      "94              NaN  102.0   2.0  321.6  5.2  52.5  14.8  213.5    6.0     4.4  \n",
      "116             NaN   91.0  11.4  217.1  4.9  38.6  17.1  154.4    5.5     4.0  \n",
      "123             NaN  105.0  25.1  206.4  5.0  52.9  21.2  167.9    7.4     5.5  \n",
      "129             NaN  104.0   1.1   80.6  4.5  80.3  27.4  144.4   10.3     7.6  \n",
      "183             NaN   98.0   0.5  129.4  4.7  62.9  29.6  151.3    6.2     4.6  \n",
      "232             NaN   77.0   0.2   59.4  4.2  38.6  71.8  137.4   10.7     7.9  \n",
      "\n",
      "[7 rows x 24 columns]\n",
      "      ID SEX  AGE    WT  HT CM   HT   BMI    WC  WC Perctile   HIP  ...  \\\n",
      "92  L007   F    7  55.0  133.0  1.3   NaN  67.5          NaN  79.0  ...   \n",
      "94  L009   M    7  22.0  120.0  1.2  15.3  68.0          NaN  61.5  ...   \n",
      "\n",
      "    DBP Percentile    FBS  HOMA   TRIG  TYG   HDL   LDL   TCHO  HbA1C  HbA1C%  \n",
      "92             NaN   93.0   3.3  178.1  4.9  42.1  14.0  137.0    4.0     3.0  \n",
      "94             NaN  102.0   2.0  321.6  5.2  52.5  14.8  213.5    6.0     4.4  \n",
      "\n",
      "[2 rows x 24 columns]\n"
     ]
    }
   ],
   "source": [
    "import pandas as pd\n",
    "\n",
    "\n",
    "df = pd.read_csv('FICMetS.csv')\n",
    "\n",
    "below_ten =  df.loc[(df['AGE'].isin(range(0,9,1)))]\n",
    "ten_sixteen = df.loc[ (df['AGE'].isin(range(10,16,1)))]\n",
    "adult = df.loc[ (df['AGE'].isin(range(16,18,1)))]\n",
    "\n",
    "def single_Percentile(data):\n",
    "    quantile = data['WC'].quantile(0.9)\n",
    "\n",
    "    newdf = data.loc[(data['WC']>= quantile)]\n",
    "    print(newdf)\n",
    "    \n",
    "single_Percentile(below_ten)\n",
    "\n",
    "def triple_Percentile(data):\n",
    "    wc_quantile = data['WC'].quantile(0.9)\n",
    "    dbp_quantile = data['DBP'].quantile(0.9)\n",
    "    sbp_quantile = data['SBP'].quantile(0.9)\n",
    "    \n",
    "\n",
    "    newdf = data.loc[\n",
    "        (below_ten['WC']>= wc_quantile)\n",
    "        &(below_ten['DBP']>= dbp_quantile)\n",
    "        &(below_ten['SBP']>= sbp_quantile)\n",
    "       \n",
    "    ]\n",
    "    print(newdf)\n",
    "    \n",
    "triple_Percentile(below_ten)"
   ]
  },
  {
   "cell_type": "code",
   "execution_count": 26,
   "id": "7d1bf969",
   "metadata": {},
   "outputs": [
    {
     "data": {
      "text/plain": [
       "AGE                 8.00\n",
       "WT                 26.00\n",
       "HT CM             130.20\n",
       "HT                  1.30\n",
       "BMI                15.60\n",
       "WC                 58.40\n",
       "WC Perctile          NaN\n",
       "HIP                65.70\n",
       "WHR                 1.00\n",
       "SBP               104.00\n",
       "SBP Percentile       NaN\n",
       "DBP                70.00\n",
       "DBP Percentile       NaN\n",
       "FBS               102.70\n",
       "HOMA                3.22\n",
       "TRIG              145.30\n",
       "TYG                 4.80\n",
       "HDL                65.60\n",
       "LDL               112.48\n",
       "TCHO              206.96\n",
       "HbA1C%              9.50\n",
       "Name: 0.9, dtype: float64"
      ]
     },
     "execution_count": 26,
     "metadata": {},
     "output_type": "execute_result"
    }
   ],
   "source": [
    "# Understanding the Pandas .quantile() method to calculate percentiles\n",
    "below_ten.quantile(\n",
    "    q=0.9,                      # The percentile to calculate\n",
    "    axis=0,                     # The axis to calculate the percentile on\n",
    "    numeric_only=True,          # To calculate only for numeric columns\n",
    "    interpolation='linear'      # The type of interpolation to use when the quantile is between 2 values\n",
    ")"
   ]
  }
 ],
 "metadata": {
  "kernelspec": {
   "display_name": "Python 3",
   "language": "python",
   "name": "python3"
  },
  "language_info": {
   "codemirror_mode": {
    "name": "ipython",
    "version": 3
   },
   "file_extension": ".py",
   "mimetype": "text/x-python",
   "name": "python",
   "nbconvert_exporter": "python",
   "pygments_lexer": "ipython3",
   "version": "3.8.8"
  }
 },
 "nbformat": 4,
 "nbformat_minor": 5
}
