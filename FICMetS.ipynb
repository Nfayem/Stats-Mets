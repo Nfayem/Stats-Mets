{
 "cells": [
  {
   "cell_type": "code",
   "execution_count": 73,
   "id": "3e0b9031",
   "metadata": {},
   "outputs": [
    {
     "name": "stdout",
     "output_type": "stream",
     "text": [
      "       ID SEX  AGE    WT  HT CM   HT   BMI    WC  WC Perctile    HIP  ...  \\\n",
      "104  L020   F   17  66.0  159.0  1.6  26.2  77.5          NaN  104.0  ...   \n",
      "148  M014   F   17  59.0  157.0  1.6  23.9  72.0          NaN   95.0  ...   \n",
      "167  P018   M   17  79.0  168.0  1.7  27.8  87.0          NaN  101.0  ...   \n",
      "228  S022   F   17  58.0  151.0  1.5  25.4  78.0          NaN  102.0  ...   \n",
      "272  T062   F   16  88.0  151.0  1.5  38.5  91.0          NaN  108.0  ...   \n",
      "\n",
      "     DBP Percentile    FBS  HOMA   TRIG  TYG   HDL    LDL   TCHO  HbA1C  \\\n",
      "104             NaN  102.0   6.5  305.7  5.2  51.0   24.3  214.2    6.0   \n",
      "148             NaN   95.0   1.3   47.0  4.3  39.4  131.1  191.8    8.2   \n",
      "167             NaN   95.0   5.1   84.2  4.5  47.5   86.4  172.2    8.2   \n",
      "228             NaN  114.0   4.6  141.8  4.8  36.3   75.3  176.0   16.2   \n",
      "272             NaN   75.0   8.9  147.1  4.7  29.0   10.3  106.2    7.2   \n",
      "\n",
      "     HbA1C%  \n",
      "104     4.5  \n",
      "148     6.1  \n",
      "167     6.1  \n",
      "228    12.0  \n",
      "272     5.3  \n",
      "\n",
      "[5 rows x 24 columns]\n",
      "      ID SEX  AGE    WT  HT CM   HT   BMI    WC  WC Perctile   HIP  ...  \\\n",
      "92  L007   F    7  55.0  133.0  1.3   NaN  67.5          NaN  79.0  ...   \n",
      "94  L009   M    7  22.0  120.0  1.2  15.3  68.0          NaN  61.5  ...   \n",
      "\n",
      "    DBP Percentile    FBS  HOMA   TRIG  TYG   HDL   LDL   TCHO  HbA1C  HbA1C%  \n",
      "92             NaN   93.0   3.3  178.1  4.9  42.1  14.0  137.0    4.0     3.0  \n",
      "94             NaN  102.0   2.0  321.6  5.2  52.5  14.8  213.5    6.0     4.4  \n",
      "\n",
      "[2 rows x 24 columns]\n"
     ]
    }
   ],
   "source": [
    "import pandas as pd\n",
    "\n",
    "\n",
    "df = pd.read_csv('FICMetS.csv')\n",
    "\n",
    "below_ten =  df.loc[(df['AGE'].isin(range(0,9,1)))]\n",
    "ten_fifteen = df.loc[ (df['AGE'].isin(range(10,15,1)))]\n",
    "adult = df.loc[ (df['AGE'].isin(range(16,18,1)))]\n",
    "\n",
    "\n",
    "def single_Percentile(data):\n",
    "    quantile = data['BMI'].quantile(0.9)\n",
    "\n",
    "    newdf = data.loc[(data['BMI']>= quantile)]\n",
    "    print(newdf)\n",
    "    \n",
    "single_Percentile(adult)\n",
    "\n",
    "def triple_Percentile(data):\n",
    "    wc_quantile = data['WC'].quantile(0.9)\n",
    "    dbp_quantile = data['DBP'].quantile(0.9)\n",
    "    sbp_quantile = data['SBP'].quantile(0.9)\n",
    "    \n",
    "\n",
    "    newdf = data.loc[\n",
    "        (data['WC']>= wc_quantile)\n",
    "        &(data['DBP']>= dbp_quantile)\n",
    "        &(data['SBP']>= sbp_quantile)\n",
    "       \n",
    "    ]\n",
    "    print(newdf)\n",
    "    \n",
    "triple_Percentile(below_ten)"
   ]
  },
  {
   "cell_type": "code",
   "execution_count": 71,
   "id": "9b22146e",
   "metadata": {},
   "outputs": [
    {
     "data": {
      "text/plain": [
       "AGE                 8.00\n",
       "WT                 26.00\n",
       "HT CM             130.20\n",
       "HT                  1.30\n",
       "BMI                15.60\n",
       "WC                 58.40\n",
       "WC Perctile          NaN\n",
       "HIP                65.70\n",
       "WHR                 1.00\n",
       "SBP               104.00\n",
       "SBP Percentile       NaN\n",
       "DBP                70.00\n",
       "DBP Percentile       NaN\n",
       "FBS               102.70\n",
       "HOMA                3.22\n",
       "TRIG              145.30\n",
       "TYG                 4.80\n",
       "HDL                65.60\n",
       "LDL               112.48\n",
       "TCHO              206.96\n",
       "HbA1C%              9.50\n",
       "Name: 0.9, dtype: float64"
      ]
     },
     "execution_count": 71,
     "metadata": {},
     "output_type": "execute_result"
    }
   ],
   "source": [
    "# Understanding the Pandas .quantile() method to calculate percentiles\n",
    "below_ten.quantile(\n",
    "    q=0.9,                      # The percentile to calculate\n",
    "    axis=0,                     # The axis to calculate the percentile on\n",
    "    numeric_only=True,          # To calculate only for numeric columns\n",
    "    interpolation='linear'      # The type of interpolation to use when the quantile is between 2 values\n",
    ")"
   ]
  }
 ],
 "metadata": {
  "kernelspec": {
   "display_name": "Python 3",
   "language": "python",
   "name": "python3"
  },
  "language_info": {
   "codemirror_mode": {
    "name": "ipython",
    "version": 3
   },
   "file_extension": ".py",
   "mimetype": "text/x-python",
   "name": "python",
   "nbconvert_exporter": "python",
   "pygments_lexer": "ipython3",
   "version": "3.8.8"
  }
 },
 "nbformat": 4,
 "nbformat_minor": 5
}
